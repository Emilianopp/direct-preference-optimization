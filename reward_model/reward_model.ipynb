{
 "cells": [
  {
   "cell_type": "code",
   "execution_count": 2,
   "metadata": {},
   "outputs": [],
   "source": [
    "import torch \n",
    "from torch import nn\n",
    "class RewardModel:\n",
    "    def __init__(self, model_instance, num_classes):\n",
    "        # Dynamically set the class of this instance to be the same as the model_instance's class\n",
    "        self.__class__ = type(model_instance)\n",
    "        \n",
    "        # Assign the model_instance to self\n",
    "        self.model = model_instance\n",
    "        \n",
    "        # Assuming the model's configuration attribute is accessible via model.config.hidden_size\n",
    "        hidden_size = self.model.config.hidden_size\n",
    "        \n",
    "        # Define a linear classification head\n",
    "        self.classification_head = nn.Linear(hidden_size, num_classes)\n",
    "\n",
    "    def forward(self, input_ids, attention_mask=None, token_type_ids=None, **kwargs):\n",
    "        # Call the forward method of the base model\n",
    "        outputs = self.model(input_ids, attention_mask=attention_mask, token_type_ids=token_type_ids, **kwargs)\n",
    "        \n",
    "        # Assuming the output we need is the last hidden state\n",
    "        # outputs.last_hidden_state contains the last hidden state\n",
    "        last_hidden_state = outputs.last_hidden_state\n",
    "        \n",
    "        # Apply the classification head on the [CLS] token (index 0 of last_hidden_state)\n",
    "        cls_token = last_hidden_state[:, 0, :]\n",
    "        logits = self.classification_head(cls_token)\n",
    "        \n",
    "        return logits"
   ]
  }
 ],
 "metadata": {
  "kernelspec": {
   "display_name": "rlhf",
   "language": "python",
   "name": "python3"
  },
  "language_info": {
   "codemirror_mode": {
    "name": "ipython",
    "version": 3
   },
   "file_extension": ".py",
   "mimetype": "text/x-python",
   "name": "python",
   "nbconvert_exporter": "python",
   "pygments_lexer": "ipython3",
   "version": "3.10.11"
  }
 },
 "nbformat": 4,
 "nbformat_minor": 2
}
