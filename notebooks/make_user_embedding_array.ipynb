{
 "cells": [
  {
   "cell_type": "code",
   "execution_count": null,
   "metadata": {},
   "outputs": [],
   "source": [
    "import pandas \n",
    "import json \n",
    "import numpy \n",
    "\n",
    "import re\n",
    "import json\n",
    "\n",
    "with open(r'/home/mila/e/emiliano.penaloza/direct-preference-optimization/notebooks/data/survey_after_pca_embed_187_cols.json', 'r') as fp:\n",
    "    data = fp.read()\n",
    "    concat_data = re.sub(r\"\\}\\n\\{\", \"},{\", data)\n",
    "    json_data_as_str = f\"[{concat_data}]\"\n",
    "    json_data = json.loads(json_data_as_str)\n"
   ]
  },
  {
   "cell_type": "code",
   "execution_count": null,
   "metadata": {},
   "outputs": [],
   "source": [
    "json_data[0]\n",
    "embs = []\n",
    "for user in json_data:\n",
    "    user.pop('user_id')\n",
    "    embs.append(list(user.values()))\n",
    "\n"
   ]
  },
  {
   "cell_type": "code",
   "execution_count": null,
   "metadata": {},
   "outputs": [],
   "source": [
    "#visualize embs by using pca\n",
    "import numpy as np\n",
    "import matplotlib.pyplot as plt\n",
    "from sklearn.decomposition import PCA\n",
    "\n",
    "# Convert the embeddings to a numpy array\n",
    "embs_array = np.array(embs)\n",
    "\n",
    "# Apply PCA to reduce the dimensionality\n",
    "pca = PCA(n_components=2)\n",
    "embs_pca = pca.fit_transform(embs_array)\n",
    "\n",
    "# Plot the embeddings\n",
    "plt.scatter(embs_pca[:, 0], embs_pca[:, 1])\n",
    "plt.xlabel('PCA Component 1')\n",
    "plt.ylabel('PCA Component 2')\n",
    "plt.title('Embeddings Visualization using PCA')\n",
    "plt.show()"
   ]
  }
 ],
 "metadata": {
  "language_info": {
   "name": "python"
  }
 },
 "nbformat": 4,
 "nbformat_minor": 2
}
